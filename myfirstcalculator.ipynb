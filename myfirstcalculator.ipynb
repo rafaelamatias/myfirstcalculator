{
  "nbformat": 4,
  "nbformat_minor": 0,
  "metadata": {
    "colab": {
      "provenance": []
    },
    "kernelspec": {
      "name": "python3",
      "display_name": "Python 3"
    },
    "language_info": {
      "name": "python"
    }
  },
  "cells": [
    {
      "cell_type": "code",
      "source": [],
      "metadata": {
        "id": "SYL4oC0wZEg_"
      },
      "execution_count": null,
      "outputs": []
    },
    {
      "cell_type": "markdown",
      "source": [
        "# Project 1 - My First Calculator Using the 4 Basic Operations\n",
        "\n",
        "This project was developed as part of the EBAC Data Science course.\n",
        "\n",
        "**Objective**: Create a simple calculator that allows the user to perform calculations intuitively, with the option to repeat the calculation multiple times.\n",
        "\n",
        "The code uses:\n",
        "\n",
        "*   Input handling with input\n",
        "*   Type conversion\n",
        "*   Conditionals (if)\n",
        "*   Looping (while)\n",
        "*   Result output with print\n",
        "*   Mathematical operations\n"
      ],
      "metadata": {
        "id": "HnCB_4jsYNBY"
      }
    },
    {
      "cell_type": "code",
      "execution_count": null,
      "metadata": {
        "id": "WYBIVjHnX0rg"
      },
      "outputs": [],
      "source": [
        "# Initial Screen\n",
        "\n",
        "name = input('Hello! What is your name? ')\n",
        "print('Welcome,', name,'!')\n",
        "\n",
        "# Receiving numbers and choosing operations - Initial looping for calculations\n",
        "while True:\n",
        "\n",
        "    try:\n",
        "        num_1 = float(input('Enter your first number: '))\n",
        "        num_2 = float(input('Enter your second number: '))\n",
        "    except ValueError:\n",
        "        print('You need to enter a number. Try again! :)')\n",
        "        break\n",
        "    operation = (input('What mathematical operation do you want to do? +, -, * or /: '))\n",
        "\n",
        "    if operation == '+':\n",
        "        print('The sum result is ', num_1 + num_2, '.')\n",
        "    elif operation == '-':\n",
        "        print('The subtraction result: ', num_1 - num_2, '.')\n",
        "    elif operation == '*':\n",
        "        print('The result of multiplication is: ', num_1 * num_2, '.')\n",
        "    elif operation == '/':\n",
        "        if num_2 == 0:\n",
        "            print('Division by 0 not allowed.')\n",
        "        else:\n",
        "            print('The result of division is: ', num_1 / num_2, '.')\n",
        "    else:\n",
        "        print('Command not found, operation closed!')\n",
        "        break\n",
        "    # Looping to do new operations\n",
        "    new_operation = int(input('Do you need to do a new operation? Enter 1 for yes and 2 for no: '))\n",
        "    if (new_operation) != 1:\n",
        "        print('Thanks for use the calculator!')\n",
        "        break\n",
        "\n",
        "\n"
      ]
    }
  ]
}